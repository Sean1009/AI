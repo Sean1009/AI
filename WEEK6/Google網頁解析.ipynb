{
  "nbformat": 4,
  "nbformat_minor": 0,
  "metadata": {
    "colab": {
      "provenance": []
    },
    "kernelspec": {
      "name": "python3",
      "display_name": "Python 3"
    },
    "language_info": {
      "name": "python"
    }
  },
  "cells": [
    {
      "cell_type": "code",
      "execution_count": 1,
      "metadata": {
        "colab": {
          "base_uri": "https://localhost:8080/"
        },
        "id": "NOVBv_eXzzVJ",
        "outputId": "fb01f7b6-7e2a-4671-e463-52a00f5ca2ae"
      },
      "outputs": [
        {
          "output_type": "stream",
          "name": "stdout",
          "text": [
            "標題：《刀劍神域》「絕劍篇」—— 我在這個世界努力地活過了！ - 創作大廳home.gamer.com.tw › creationDetail\n",
            "網址：/url?q=https://home.gamer.com.tw/creationDetail.php%3Fsn%3D4800422&sa=U&ved=2ahUKEwjTwNX1kf-BAxUFQjABHXN1CW8QFnoECAYQAg&usg=AOvVaw1D_y5Je1Yksof35Yo1XD1n\n",
            "標題：紺野木綿季 - 萌娘百科zh.moegirl.org.cn › zh-hant › 绀野木绵季\n",
            "網址：/url?q=https://zh.moegirl.org.cn/zh-hant/%25E7%25BB%2580%25E9%2587%258E%25E6%259C%25A8%25E7%25BB%25B5%25E5%25AD%25A3&sa=U&ved=2ahUKEwjTwNX1kf-BAxUFQjABHXN1CW8QFnoECAUQAg&usg=AOvVaw1v51C7lw6B2HHPEyG0ESFs\n",
            "標題：《刀剑神域》绝剑篇.我在这个世界努力地活过了 - 搜狐www.sohu.com › ...\n",
            "網址：/url?q=https://www.sohu.com/a/196049754_156619&sa=U&ved=2ahUKEwjTwNX1kf-BAxUFQjABHXN1CW8QFnoECAcQAg&usg=AOvVaw15angFmQKvcFDyaIe3JzRv\n",
            "標題：【刀劍神域人物誌】最強單手劍士-絕劍有紀 - Potato Mediawww.potatomedia.co › post\n",
            "網址：/url?q=https://www.potatomedia.co/post/55a04bac-753c-4b39-8888-49acc4dce04a&sa=U&ved=2ahUKEwjTwNX1kf-BAxUFQjABHXN1CW8QFnoECAIQAg&usg=AOvVaw31V9wA0HcDHUl19sGg70CL\n",
            "標題：[Web][刀剑神域][EX04]绝剑swordart.online › web_ex04\n",
            "網址：/url?q=https://swordart.online/web_ex04.html&sa=U&ved=2ahUKEwjTwNX1kf-BAxUFQjABHXN1CW8QFnoECAgQAg&usg=AOvVaw3urZpAY98vlFx8TMw_r_fK\n",
            "標題：刀剑神域绝剑篇讲的什么 - 百度知道zhidao.baidu.com › question\n",
            "網址：/url?q=https://zhidao.baidu.com/question/1947031810145149068.html&sa=U&ved=2ahUKEwjTwNX1kf-BAxUFQjABHXN1CW8QFnoECAQQAg&usg=AOvVaw2C_N7gUN0Na9AhN31HCevQ\n",
            "標題：「傳聞中的絕劍11連擊ーー原創劍技“聖母聖詠”」 總覺得她的結局很 ...www.facebook.com › 公共主页 › 兴趣 › 宅生活 2.0 › 视频\n",
            "網址：/url?q=https://www.facebook.com/otakulifex20/videos/%25E5%2588%2580%25E5%258A%258D%25E7%25A5%259E%25E5%259F%259F2-%25E8%2581%2596%25E6%25AF%258D%25E8%2581%2596%25E8%25A9%25A0%25E7%25AF%2587-%25E7%25B5%2595%25E5%258A%258D%25E7%259A%2584%25E5%25BC%25B7%25E5%25A4%25A7/2296370173961005/%3Flocale%3Dzh_CN&sa=U&ved=2ahUKEwjTwNX1kf-BAxUFQjABHXN1CW8QtwJ6BAgKEAE&usg=AOvVaw1JUoYDmgMubG5sy5R-FU6s\n",
            "標題：\n",
            "網址：/url?q=https://www.facebook.com/otakulifex20/videos/%25E5%2588%2580%25E5%258A%258D%25E7%25A5%259E%25E5%259F%259F2-%25E8%2581%2596%25E6%25AF%258D%25E8%2581%2596%25E8%25A9%25A0%25E7%25AF%2587-%25E7%25B5%2595%25E5%258A%258D%25E7%259A%2584%25E5%25BC%25B7%25E5%25A4%25A7/2296370173961005/%3Flocale%3Dzh_CN&sa=U&ved=2ahUKEwjTwNX1kf-BAxUFQjABHXN1CW8QuAJ6BAgKEAI&usg=AOvVaw02Qd6Ke8VvU_DOeHZCVMtF\n",
            "標題：【四郎】昇華整部刀劍神域的重量級角色“有紀”！ 『聖母聖詠』以及 ...www.youtube.com › watch\n",
            "網址：/url?q=https://www.youtube.com/watch%3Fv%3DCP1jr2RV0rY&sa=U&ved=2ahUKEwjTwNX1kf-BAxUFQjABHXN1CW8QtwJ6BAgJEAE&usg=AOvVaw34RpbvqlQE5rxq_G63lrne\n",
            "標題：\n",
            "網址：/url?q=https://www.youtube.com/watch%3Fv%3DCP1jr2RV0rY&sa=U&ved=2ahUKEwjTwNX1kf-BAxUFQjABHXN1CW8QuAJ6BAgJEAI&usg=AOvVaw0nt-YUOZy9Sno-xJMLLeKw\n",
            "標題：670 个絕劍有紀点子 - Pinterestwww.pinterest.com › 絕劍有紀\n",
            "網址：/url?q=https://www.pinterest.com/s19316101/%25E7%25B5%2595%25E5%258A%258D%25E6%259C%2589%25E7%25B4%2580/&sa=U&ved=2ahUKEwjTwNX1kf-BAxUFQjABHXN1CW8QFnoECAMQAg&usg=AOvVaw2JNCLKfksWg79TYo5f4YEK\n",
            "標題：絕劍有紀- 優惠推薦- 2023年10月| 蝦皮購物台灣shopee.tw › search › keyword=絕劍有紀\n",
            "網址：/url?q=https://shopee.tw/search%3Fkeyword%3D%25E7%25B5%2595%25E5%258A%258D%25E6%259C%2589%25E7%25B4%2580&sa=U&ved=2ahUKEwjTwNX1kf-BAxUFQjABHXN1CW8QFnoECAEQAg&usg=AOvVaw1ac58aqjPEgV_0JBBAgcpB\n"
          ]
        }
      ],
      "source": [
        "import requests\n",
        "from bs4 import BeautifulSoup\n",
        "\n",
        "google_url = 'https://www.google.com.tw/search'\n",
        "\n",
        "my_params = {'q': '絕劍'}\n",
        "\n",
        "r = requests.get(google_url, params = my_params)\n",
        "\n",
        "if r.status_code == requests.codes.ok:\n",
        "  soup = BeautifulSoup(r.text, 'html.parser')\n",
        "\n",
        "  items = soup.select('div.kCrYT > a[href^=\"/url\"]')\n",
        "\n",
        "  for i in items:\n",
        "    # 標題\n",
        "    print(\"標題：\" + i.text)\n",
        "    # 網址\n",
        "    print(\"網址：\" + i.get('href'))"
      ]
    }
  ]
}